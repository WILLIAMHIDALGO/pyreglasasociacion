{
 "cells": [
  {
   "cell_type": "markdown",
   "metadata": {
    "nbpresent": {
     "id": "34910121-9562-494c-9684-c09a44025fbf"
    },
    "slideshow": {
     "slide_type": "slide"
    }
   },
   "source": [
    "\n",
    "<img src=\"http://hacklabalmeria.net/recursos/2016-10-07/logo2016-2.jpg\" style=\"width:150px\">\n",
    "\n",
    "# py- reglas de asociación\n",
    "\n",
    "## PyConEs 2016\n",
    "### 2016.10.09\n",
    "### Claudia Guirao / Miquel Camprodon\n",
    "\n",
    "\n",
    "\n"
   ]
  },
  {
   "cell_type": "markdown",
   "metadata": {
    "nbpresent": {
     "id": "1c171cc2-7e1b-4427-887a-874e8895fc94"
    },
    "slideshow": {
     "slide_type": "slide"
    }
   },
   "source": [
    "## ¿Quiénes somos?\n",
    "\n",
    "### Claudia Guirao\n",
    "#### @claudiaguirao\n",
    "#### Data Scientist at Kernel Analytics \n",
    "<img src=\"files/CGF.png\" style=\"width:150px; display:inline\">\n",
    "\n",
    "### Miquel Camprodon\n",
    "#### Data Scientist at Kernel Analytics\n",
    "\n",
    "\n",
    "### Kernel Analytics"
   ]
  },
  {
   "cell_type": "markdown",
   "metadata": {
    "nbpresent": {
     "id": "0b6f4522-115d-4638-a1ec-1829b96ab670"
    },
    "slideshow": {
     "slide_type": "slide"
    }
   },
   "source": [
    "## Indice\n",
    "\n",
    "1. Reglas de asociación\n",
    "2. Soporte y confianza\n",
    "3. Algoritmos de construcción\n",
    "4. Ejemplo\n",
    "5. Aplicaciones\n",
    "6. Conclusiones\n"
   ]
  },
  {
   "cell_type": "markdown",
   "metadata": {
    "nbpresent": {
     "id": "1e894992-7f6e-466d-9401-f530a077c171"
    },
    "slideshow": {
     "slide_type": "slide"
    }
   },
   "source": [
    "### 1. Intuición y casos de uso\n",
    "\n",
    "Las reglas de asociación son una manera muy popular de **identificar patrones** en nuestros datos. \n",
    "\n",
    "Estos patrones pueden servir para conocer el comportamiento general del problema.\n",
    "\n",
    "Casos de uso:\n",
    "- Market basket analysis, origen histórico\n",
    "- Optimización web\n",
    "- Recomendación de artículos\n",
    "- Distribución de artículos\n",
    "\n",
    "\n",
    "_¿Cerveza y pañales?_\n"
   ]
  },
  {
   "cell_type": "markdown",
   "metadata": {
    "nbpresent": {
     "id": "1e69d294-ccef-4695-a91c-62e84cf644b9"
    },
    "slideshow": {
     "slide_type": "slide"
    }
   },
   "source": [
    "### 2. Definición formal\n",
    "\n",
    "Las diferentes cestas de la compra se pueden expresar formando una base de datos de tabla única:\n",
    " - cada final representa una cesta de un supermercado\n",
    " - cada columna los productos en venta de un supermercado\n",
    " - Esta tabla sólo presenta valores binarios {0,1}.\n",
    "\n",
    "_Así,un 1 en la posición i,j indica que la cesta i incorpora el producto j, mientras que un 0 indica que el cliente no adquirió el producto._\n",
    "\n",
    "<img src=\"files/tabla1.png\" style=\"width:800\">\n"
   ]
  },
  {
   "cell_type": "markdown",
   "metadata": {
    "slideshow": {
     "slide_type": "subslide"
    }
   },
   "source": [
    "Una regla de asociación es una **proposición probabilística sobre la ocurrencia de ciertos estados** en una base de datos. \n",
    "En las reglas de asociación, en la parte de la derecha (consecuente) puede aparecer cualquier atributo, incluso más de un atributo. \n",
    "<img src=\"files/2.png\" style=\"width:400px; display:inline\">\n",
    "\n",
    "$$I = {\\{ i_1, i_2, , ..., i_m\\}}$$ \n",
    "\n",
    "es un conjunto de literales, en el ejemplo del supermercado son los **productos**. \n",
    "_**X**_ es un subconjunto de _**I**_, de tamaño _n_, esto es; un pedido o **cesta de la compra**. \n",
    "\n",
    "Por tanto una regla de asociación puede ser vista como reglas de la firma **SI α ENTONCES β**, donde _α_ y _β_ son dos conjuntos de ítems disjuntos. Otra forma muy utilizada para expresar una regla de asociación es  _α ⇒ β_\n",
    "\n"
   ]
  },
  {
   "cell_type": "markdown",
   "metadata": {
    "slideshow": {
     "slide_type": "subslide"
    }
   },
   "source": [
    "Dada una regla de asociación, se suele trabajar con dos medidas para conocer la calidad de esa regla: \n",
    "- **cobertura o soporte** (support),  se define como el número de instancias que la regla predice correctamente.\n",
    "- **confianza** (confidence) - probabilidad condicionada. Por otra parte, la confianza mide el porcentaje de veces que la regla se cumple cuando se puede aplicar. \n",
    "\n",
    "Normalmente, el aprendizaje de reglas de asociación se basa en su confianza y cobertura. Los algoritmos de aprendizaje trabajan en la búsqueda de reglas que alcancen unos requisitos mínimos en estas medidas. \n",
    "\n",
    "Dado el gran volumen de datos de los problemas en que los algoritmos de aprendizaje de reglas de asociación trabajan, esta tarea puede resultar computacionalmente muy costosa. Sin embargo, en los casos reales existen pocos conjuntos frecuentes y los métodos que exigen una confianza y/o cobertura mínimas se benefician de este hecho. Por ejemplo, la mayoría de los clientes de un supermercado suelen comprar un número limitado de productos. "
   ]
  },
  {
   "cell_type": "markdown",
   "metadata": {
    "slideshow": {
     "slide_type": "subslide"
    }
   },
   "source": [
    "#### Distintos tipos de reglas de asociación:\n",
    "En atención a los **tipos de los valores** utilizados en las reglas:\n",
    "- Reglas que trabajan con atributos binarios (por ejemplo presencia o ausencia de un ítem) \n",
    "- Reglas que trabajan con atributos de más de dos valores SI país=Alemania o atributos numéricos SI 18>edad>20 \n",
    "\n",
    "En atención a las **dimensiones de los datos**: \n",
    "- Reglas que se refieren a una dimensión, presencia o no en la cesta de la compra\n",
    "- Reglas multidimensionales, SI nacionalidad(Alemania), mes(Agosto) ⇒ Hotel(Mallorca Playa)\n",
    "\n",
    "En atención a los **niveles de abstracción**: algunos algoritmos incorporan diferentes niveles de abstracción, por ejemplo las familias de producto. Este tipo de reglas son las reglas multi-nivel (ejemplo: bebidas, bebidas no alcoholicas, bebidas con gsa)\n",
    "\n",
    "En atención al **tiempo**: reglas instantáneas o reglas secuenciales, depende de si se consideran relaciones en un instante de tiempo o en una secuencia o serie. "
   ]
  },
  {
   "cell_type": "markdown",
   "metadata": {
    "slideshow": {
     "slide_type": "slide"
    }
   },
   "source": [
    "### APRIORI\n",
    "\n",
    "El funcionamiento de este algoritmo se basa en la búsqueda de los conjuntos de ítems con determinada cobertura. Para ello, se construyen conjuntos formados por un solo ítem que supera la cobertura mínima. \n",
    "\n",
    "Tomando la tabla anterior, si fijamos una cobertura mínima igual a 2. En la tabla existen siete conjuntos de un solo ítem (7 atributos) y todos aparecen un mínimo de 2 veces. Si pasamos a conjuntos formados por dos ítems, tendríamos un total de 15 conjuntos\n",
    "$$ C_2^7 = 7!/5!$$ \n",
    "\n",
    "<img src=\"files/tabla1.png\" style=\"width:400; display:inline\">\n",
    "\n",
    "\n",
    "Por ejemplo, el ítem <img src=\"files/gamba.png\" style=\"width:50px; display:inline\">Y<img src=\"files/cerveza.png\" style=\"width:50px; display:inline\"> tiene una cobertura de cuatro. \n",
    "\n",
    "- 11 conjuntos de 3 ítems \n",
    "- 2 conjuntos de 4 ítems.\n"
   ]
  },
  {
   "cell_type": "markdown",
   "metadata": {
    "slideshow": {
     "slide_type": "subslide"
    }
   },
   "source": [
    "Una vez se han seleccionado los conjuntos de ítems que cumplen con la cobertura mínima, el siguiente paso consiste en extraer de estos conjuntos las reglas que tengan un nivel de confianza mínimo.\n",
    "\n",
    "Si seleccionamos {<img src=\"files/gamba.png\" style=\"width:50px; display:inline\">,<img src=\"files/cerveza.png\" style=\"width:50px; display:inline\">  y <img src=\"files/manzana.png\" style=\"width:50px; display:inline\">} podemos extraer las siguientes reglas de asociación:\n",
    "\n",
    "\n",
    "<img src=\"files/tabla2.png\" style=\"width:400; display:inline\">\n",
    "\n"
   ]
  },
  {
   "cell_type": "markdown",
   "metadata": {
    "slideshow": {
     "slide_type": "subslide"
    }
   },
   "source": [
    "El aprendizaje de reglas de asociación se divide en 2 fases,\n",
    "- la **extracción de los conjuntos** de ítems que cumplan con la cobertura requerida. \n",
    "Para la búsqueda de los conjuntos de ítems o itemsets se emplea una propiedad que permite acelerar de manera considerable su búsqueda:  \"_un conjunto formado por X items es frecuente si y sólo si cada uno de los X items es frecuente por si solo.\"_  Esto permite generar los conjuntos de ítems de una manera incremental.\n",
    "- la **generación de las reglas** a partir de estos conjuntos.  Consiste en la creación de reglas a partir de los ítems frecuentes. Sí sólo buscamos reglas con un único elemento como consecuente, el proceso es sencillo: de un conjunto de ítems de tamaño i, se crean i reglas colocando siempre un único ítem diferente en la parte de la derecha. \n",
    "\n",
    "\n",
    "<img src=\"files/tabla3.png\" style=\"width:400; display:inline\">\n",
    "\n"
   ]
  },
  {
   "cell_type": "markdown",
   "metadata": {
    "slideshow": {
     "slide_type": "subslide"
    }
   },
   "source": [
    "El cálculo de la confianza de las reglas se puede hacer de manera eficiente, dividiendo la cobertura del conjunto de ítems por la cobertura de la parte de la derecha. Por esto si almacenamos esa información en una tabla evitamos volver a recorrer el tablón para realizar el cálculo. \n",
    "\n",
    "Si queremos utilizar campos con más de un ítem en la parte derecha podemos dividirla en dos reglas con un ítem en la derecha. \n",
    "\n",
    "<img src=\"files/reglas4.png\" style=\"width:400; display:inline\">\n",
    "\n",
    "La cobertura de ambas reglas será idéntica a la regla anterior, por tener la misma parte en la izquierda. \n",
    "\n",
    "La confianza será igual o mayor a la primera de las reglas. \n",
    "\n",
    "\n",
    "Así podemos concluir que para que una regla con dos ítems como consecuente cumpla los requisitos de precisión y confianza es necesario que las dos reglas formadas por la misma parte izquierda y por cada uno de los ítems en la parte de la derecha también cumplan los requisitos.  \n",
    "\n",
    "Esto facilita la generación de reglas de forma incremental: primero se derivan reglas con un ítem en la parte derecha y a partir de este conjunto de reglas generamos las de varios ítems en la derecha. \n",
    "\n"
   ]
  },
  {
   "cell_type": "code",
   "execution_count": 1,
   "metadata": {
    "collapsed": true,
    "slideshow": {
     "slide_type": "slide"
    }
   },
   "outputs": [],
   "source": []
  },
  {
   "cell_type": "code",
   "execution_count": null,
   "metadata": {
    "collapsed": true
   },
   "outputs": [],
   "source": []
  }
 ],
 "metadata": {
  "anaconda-cloud": {},
  "celltoolbar": "Slideshow",
  "kernelspec": {
   "display_name": "Python [Root]",
   "language": "python",
   "name": "Python [Root]"
  },
  "language_info": {
   "codemirror_mode": {
    "name": "ipython",
    "version": 2
   },
   "file_extension": ".py",
   "mimetype": "text/x-python",
   "name": "python",
   "nbconvert_exporter": "python",
   "pygments_lexer": "ipython2",
   "version": "2.7.12"
  },
  "nbpresent": {
   "slides": {
    "348d3642-b3bf-4062-93e8-49c08d25dd18": {
     "id": "348d3642-b3bf-4062-93e8-49c08d25dd18",
     "prev": "618968b7-3f2a-4414-b104-1e4e3188029f",
     "regions": {
      "9ec8ebf0-7658-4102-a986-32bda3f5f2f1": {
       "attrs": {
        "height": 0.8,
        "width": 0.8,
        "x": 0.1,
        "y": 0.1
       },
       "content": {
        "cell": "1c171cc2-7e1b-4427-887a-874e8895fc94",
        "part": "whole"
       },
       "id": "9ec8ebf0-7658-4102-a986-32bda3f5f2f1"
      }
     }
    },
    "52dc8d88-7ae4-4966-8f83-62d82078c565": {
     "id": "52dc8d88-7ae4-4966-8f83-62d82078c565",
     "prev": "fe929cdd-d8ef-47ef-a5c5-5e5a668bd6b0",
     "regions": {
      "0dfe0cef-1b9e-4cd3-9c29-8d91a34cfe3a": {
       "attrs": {
        "height": 0.8,
        "width": 0.8,
        "x": 0.1,
        "y": 0.1
       },
       "content": {
        "cell": "1e894992-7f6e-466d-9401-f530a077c171",
        "part": "whole"
       },
       "id": "0dfe0cef-1b9e-4cd3-9c29-8d91a34cfe3a"
      }
     }
    },
    "618968b7-3f2a-4414-b104-1e4e3188029f": {
     "id": "618968b7-3f2a-4414-b104-1e4e3188029f",
     "prev": null,
     "regions": {
      "e12c4f9e-b3ae-4560-b053-4e2e04d0aa31": {
       "attrs": {
        "height": 0.8,
        "width": 0.8,
        "x": 0.1,
        "y": 0.1
       },
       "content": {
        "cell": "34910121-9562-494c-9684-c09a44025fbf",
        "part": "whole"
       },
       "id": "e12c4f9e-b3ae-4560-b053-4e2e04d0aa31"
      }
     }
    },
    "ee99a546-f2c4-4768-9f80-c4f5ab910824": {
     "id": "ee99a546-f2c4-4768-9f80-c4f5ab910824",
     "prev": "52dc8d88-7ae4-4966-8f83-62d82078c565",
     "regions": {
      "7166f318-5d47-4623-9a91-def1f8fe7d2b": {
       "attrs": {
        "height": 0.8,
        "width": 0.8,
        "x": 0.1,
        "y": 0.1
       },
       "content": {
        "cell": "1e69d294-ccef-4695-a91c-62e84cf644b9",
        "part": "whole"
       },
       "id": "7166f318-5d47-4623-9a91-def1f8fe7d2b"
      }
     }
    },
    "fe929cdd-d8ef-47ef-a5c5-5e5a668bd6b0": {
     "id": "fe929cdd-d8ef-47ef-a5c5-5e5a668bd6b0",
     "prev": "348d3642-b3bf-4062-93e8-49c08d25dd18",
     "regions": {
      "cbfa517b-78b3-4522-8f03-0e4d05823796": {
       "attrs": {
        "height": 0.8,
        "width": 0.8,
        "x": 0.1,
        "y": 0.1
       },
       "content": {
        "cell": "0b6f4522-115d-4638-a1ec-1829b96ab670",
        "part": "whole"
       },
       "id": "cbfa517b-78b3-4522-8f03-0e4d05823796"
      }
     }
    }
   },
   "themes": {
    "default": "343a5494-ab61-41cf-9bae-9dfc589bc450",
    "theme": {
     "343a5494-ab61-41cf-9bae-9dfc589bc450": {
      "id": "343a5494-ab61-41cf-9bae-9dfc589bc450",
      "palette": {
       "19cc588f-0593-49c9-9f4b-e4d7cc113b1c": {
        "id": "19cc588f-0593-49c9-9f4b-e4d7cc113b1c",
        "rgb": [
         252,
         252,
         252
        ]
       },
       "31af15d2-7e15-44c5-ab5e-e04b16a89eff": {
        "id": "31af15d2-7e15-44c5-ab5e-e04b16a89eff",
        "rgb": [
         68,
         68,
         68
        ]
       },
       "50f92c45-a630-455b-aec3-788680ec7410": {
        "id": "50f92c45-a630-455b-aec3-788680ec7410",
        "rgb": [
         155,
         177,
         192
        ]
       },
       "c5cc3653-2ee1-402a-aba2-7caae1da4f6c": {
        "id": "c5cc3653-2ee1-402a-aba2-7caae1da4f6c",
        "rgb": [
         43,
         126,
         184
        ]
       },
       "efa7f048-9acb-414c-8b04-a26811511a21": {
        "id": "efa7f048-9acb-414c-8b04-a26811511a21",
        "rgb": [
         25.118061674008803,
         73.60176211453744,
         107.4819383259912
        ]
       }
      },
      "rules": {
       "blockquote": {
        "color": "50f92c45-a630-455b-aec3-788680ec7410"
       },
       "code": {
        "font-family": "Anonymous Pro"
       },
       "h1": {
        "color": "c5cc3653-2ee1-402a-aba2-7caae1da4f6c",
        "font-family": "Lato",
        "font-size": 8
       },
       "h2": {
        "color": "c5cc3653-2ee1-402a-aba2-7caae1da4f6c",
        "font-family": "Lato",
        "font-size": 6
       },
       "h3": {
        "color": "50f92c45-a630-455b-aec3-788680ec7410",
        "font-family": "Lato",
        "font-size": 5.5
       },
       "h4": {
        "color": "c5cc3653-2ee1-402a-aba2-7caae1da4f6c",
        "font-family": "Lato",
        "font-size": 5
       },
       "h5": {
        "font-family": "Lato"
       },
       "h6": {
        "font-family": "Lato"
       },
       "h7": {
        "font-family": "Lato"
       },
       "pre": {
        "font-family": "Anonymous Pro",
        "font-size": 4
       }
      },
      "text-base": {
       "font-family": "Merriweather",
       "font-size": 4
      }
     }
    }
   }
  }
 },
 "nbformat": 4,
 "nbformat_minor": 0
}
